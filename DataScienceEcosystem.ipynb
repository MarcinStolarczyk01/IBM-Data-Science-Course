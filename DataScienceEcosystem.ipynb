{
  "nbformat": 4,
  "nbformat_minor": 0,
  "metadata": {
    "colab": {
      "provenance": [],
      "authorship_tag": "ABX9TyN5rEoVuH8/L6tPn1C3BJF7",
      "include_colab_link": true
    },
    "kernelspec": {
      "name": "python3",
      "display_name": "Python 3"
    },
    "language_info": {
      "name": "python"
    }
  },
  "cells": [
    {
      "cell_type": "markdown",
      "metadata": {
        "id": "view-in-github",
        "colab_type": "text"
      },
      "source": [
        "<a href=\"https://colab.research.google.com/github/MarcinStolarczyk01/IBM-Data-Science-Course/blob/master/DataScienceEcosystem.ipynb\" target=\"_parent\"><img src=\"https://colab.research.google.com/assets/colab-badge.svg\" alt=\"Open In Colab\"/></a>"
      ]
    },
    {
      "cell_type": "markdown",
      "source": [
        "# Data Science Tools and Ecosystem"
      ],
      "metadata": {
        "id": "xKPnVBsayf0W"
      }
    },
    {
      "cell_type": "markdown",
      "source": [
        "In this notebook, Data Science Tools and Ecosystem are summarized."
      ],
      "metadata": {
        "id": "jkrFaVeFy2o1"
      }
    },
    {
      "cell_type": "markdown",
      "source": [
        "Some of the popular languages that Data Scientists use are:\n",
        "1. Python\n",
        "2. R\n",
        "3. Julia\n",
        "4. Scala"
      ],
      "metadata": {
        "id": "uIeZWfsuzDfy"
      }
    },
    {
      "cell_type": "markdown",
      "source": [
        "Some of the commonly used libraries used by Data Scientist include:\n",
        "1. NumPy\n",
        "2. Pandas\n",
        "3. Matplotlib\n",
        "4. ggplot\n",
        "5. Spark"
      ],
      "metadata": {
        "id": "oCRHOqPpzWiN"
      }
    },
    {
      "cell_type": "markdown",
      "source": [
        "| Data Science Tools |\n",
        "|---|\n",
        "|Jupyter notebook|\n",
        "|GitHub|\n",
        "|Anaconda|\n",
        "\n"
      ],
      "metadata": {
        "id": "3F8J5529zzLE"
      }
    },
    {
      "cell_type": "markdown",
      "source": [
        "### Below are a few examples of evaluating arithmetic expressions in Python"
      ],
      "metadata": {
        "id": "HLiO5OwB0cEn"
      }
    },
    {
      "cell_type": "code",
      "source": [
        "# Multiplication and sum\n",
        "(3*4)+5\n"
      ],
      "metadata": {
        "colab": {
          "base_uri": "https://localhost:8080/"
        },
        "id": "NMmqwoC30mep",
        "outputId": "4970b19e-ca74-4d9d-e391-987710c9fc81"
      },
      "execution_count": null,
      "outputs": [
        {
          "output_type": "execute_result",
          "data": {
            "text/plain": [
              "17"
            ]
          },
          "metadata": {},
          "execution_count": 3
        }
      ]
    },
    {
      "cell_type": "code",
      "source": [
        "# This script converts 200 minutes in hours (represented as floating numbers)\n",
        "200/60"
      ],
      "metadata": {
        "colab": {
          "base_uri": "https://localhost:8080/"
        },
        "id": "RZSeWhCX0s5_",
        "outputId": "7accc73a-ad3b-4354-9346-b44ca45cc2cf"
      },
      "execution_count": null,
      "outputs": [
        {
          "output_type": "execute_result",
          "data": {
            "text/plain": [
              "3.3333333333333335"
            ]
          },
          "metadata": {},
          "execution_count": 4
        }
      ]
    },
    {
      "cell_type": "markdown",
      "source": [
        "**Objectives:**\n",
        "- Create data science tools table\n",
        "- List tools used for Data Science like VCS\n",
        "- Enumerate popular programming languages used by Data Scientists"
      ],
      "metadata": {
        "id": "x5g8qSmc1gwo"
      }
    },
    {
      "cell_type": "markdown",
      "source": [
        "## Author\n",
        "Marcin Stolarczyk"
      ],
      "metadata": {
        "id": "y0mD4ivO2gIK"
      }
    },
    {
      "cell_type": "code",
      "source": [],
      "metadata": {
        "id": "gzu7CFE_2rnS"
      },
      "execution_count": null,
      "outputs": []
    }
  ]
}